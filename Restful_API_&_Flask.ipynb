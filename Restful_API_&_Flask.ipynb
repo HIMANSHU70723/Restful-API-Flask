{
  "nbformat": 4,
  "nbformat_minor": 0,
  "metadata": {
    "colab": {
      "provenance": []
    },
    "kernelspec": {
      "name": "python3",
      "display_name": "Python 3"
    },
    "language_info": {
      "name": "python"
    }
  },
  "cells": [
    {
      "cell_type": "code",
      "execution_count": null,
      "metadata": {
        "id": "bYFVoZOfBTa8"
      },
      "outputs": [],
      "source": [
        "# 1. How do you create a basic Flask application\n",
        "!pip install Flask==2.3.2\n",
        "\n",
        "from flask import Flask\n",
        "\n",
        "app = Flask(__name__)\n",
        "\n",
        "@app.route('/')\n",
        "def hello():\n",
        "    return 'Hello, World!'\n",
        "\n",
        "if __name__ == '__main__':\n",
        "    app.run(debug=True)"
      ]
    },
    {
      "cell_type": "code",
      "source": [
        "# 2. How do you serve static files like images or CSS in Flask\n",
        "<!DOCTYPE html>\n",
        "<html>\n",
        "<head>\n",
        "    <title>My Flask App</title>\n",
        "</head>\n",
        "<body>\n",
        "    <h1>Welcome!</h1>\n",
        "    <img src=\"{{ url_for('static', filename='images/logo.png') }}\" alt=\"Logo\">\n",
        "</body>\n",
        "</html>\n"
      ],
      "metadata": {
        "id": "zn-sMv2QBWvp"
      },
      "execution_count": null,
      "outputs": []
    },
    {
      "cell_type": "code",
      "source": [
        "# 3 How do you define different routes with different HTTP methods in Flask\n",
        "from flask import Flask\n",
        "\n",
        "   app = Flask(__name__)\n",
        "\n",
        "   @app.get('/items')\n",
        "   def get_items():\n",
        "       # Handle the GET request (e.g., retrieve items)\n",
        "       return 'Items retrieved!'\n",
        "\n",
        "   @app.post('/items')\n",
        "   def create_item():\n",
        "       # Handle the POST request (e.g., create a new item)\n",
        "       return 'Item created!'"
      ],
      "metadata": {
        "id": "po_GZUKlCD0s"
      },
      "execution_count": null,
      "outputs": []
    },
    {
      "cell_type": "code",
      "source": [
        "# 4. How do you render HTML templates in Flask\n",
        "from flask import Flask, render_template\n",
        "\n",
        "app = Flask(__name__)\n",
        "\n",
        "@app.route('/')\n",
        "def hello():\n",
        "    name = 'World'  # Example variable\n",
        "    return render_template('hello.html', name=name)"
      ],
      "metadata": {
        "id": "hh6wKNOXCS_P"
      },
      "execution_count": null,
      "outputs": []
    },
    {
      "cell_type": "code",
      "source": [
        "# 5. How can you generate URLs for routes in Flask using url_for\n",
        "from flask import Flask, url_for\n",
        "\n",
        "   app = Flask(__name__)\n",
        "\n",
        "   @app.route('/')\n",
        "   def index():\n",
        "       return 'Index Page'\n",
        "\n",
        "   @app.route('/hello')\n",
        "   def hello():\n",
        "       return 'Hello, World!'\n",
        "\n",
        "   with app.test_request_context():\n",
        "       print(url_for('index'))  # Output: /\n",
        "       print(url_for('hello')) # Output: /hello\n",
        "       @app.route('/user/<username>')\n",
        "   def profile(username):\n",
        "       return f'User {username}'\n",
        "\n",
        "   with app.test_request_context():\n",
        "       print(url_for('profile', username='john_doe'))  # Output: /user/john_doe\n",
        "       <a href=\"{{ url_for('profile', username='john_doe') }}\">John Doe's Profile</a>\n",
        "\n"
      ],
      "metadata": {
        "id": "AlYjTeTdCS77"
      },
      "execution_count": null,
      "outputs": []
    },
    {
      "cell_type": "code",
      "source": [
        "#  6. How do you handle forms in Flask\n",
        "!pip install Flask-WTF==1.1.1\n",
        "from flask_wtf import FlaskForm\n",
        "from wtforms import StringField, SubmitField\n",
        "from wtforms.validators import DataRequired\n",
        "\n",
        "class MyForm(FlaskForm):\n",
        "    name = StringField('Name', validators=[DataRequired()])\n",
        "    submit = SubmitField('Submit')\n",
        "        from flask import Flask, render_template, request\n",
        "\n",
        "app = Flask(__name__)\n",
        "app.config['SECRET_KEY'] = 'your_secret_key'  # Important for security\n",
        "\n",
        "@app.route('/', methods=['GET', 'POST'])\n",
        "def index():\n",
        "    form = MyForm()\n",
        "    if form.validate_on_submit():\n",
        "        # Process form data here (e.g., store it in a database)\n",
        "        name = form.name.data\n",
        "        return f'Hello, {name}!'  # Or redirect to another page\n",
        "    return render_template('index.html', form=form)\n",
        "\n"
      ],
      "metadata": {
        "id": "5ub71KcwCS5q"
      },
      "execution_count": null,
      "outputs": []
    },
    {
      "cell_type": "code",
      "source": [
        "# 7. How can you validate form data in Flask\n",
        "from flask_wtf import FlaskForm\n",
        "from wtforms import StringField, SubmitField\n",
        "from wtforms.validators import DataRequired, Email, Length\n",
        "\n",
        "class MyForm(FlaskForm):\n",
        "    name = StringField('Name', validators=[DataRequired(), Length(min=4, max=25)])\n",
        "    email = StringField('Email', validators=[DataRequired(), Email()])\n",
        "    submit = SubmitField('Submit')\n",
        ""
      ],
      "metadata": {
        "id": "RpYzfBocCSmW"
      },
      "execution_count": null,
      "outputs": []
    },
    {
      "cell_type": "code",
      "source": [
        "# 8. How do you manage sessions in Flask\n",
        "from flask import Flask, session, redirect, url_for, request\n",
        "\n",
        "app = Flask(__name__)\n",
        "app.secret_key = 'your_secret_key'\n",
        "\n",
        "@app.route('/')\n",
        "def index():\n",
        "    if 'username' in session:\n",
        "        return f'Logged in as {session[\"username\"]}'\n",
        "    return 'You are not logged in'\n",
        "\n",
        "@app.route('/login', methods=['GET', 'POST'])\n",
        "def login():\n",
        "    if request.method == 'POST':\n",
        "        session['username'] = request.form['username']\n",
        "        return redirect(url_for('index'))\n",
        "    return '''\n",
        "        <form method=\"post\">\n",
        "            <p><input type=text name=username>\n",
        "            <p><input type=submit value=Login>\n",
        "        </form>\n",
        "    '''\n",
        "\n",
        "@app.route('/logout')\n",
        "def logout():\n",
        "    # remove the username from the session if it's there\n",
        "    session.pop('username', None)\n",
        "    return redirect(url_for('index'))"
      ],
      "metadata": {
        "id": "zNxwhA4aDf_E"
      },
      "execution_count": null,
      "outputs": []
    },
    {
      "cell_type": "code",
      "source": [
        "# 9. How do you redirect to a different route in Flask\n",
        "from flask import Flask, redirect, url_for\n",
        "\n",
        "app = Flask(__name__)\n",
        "\n",
        "@app.route('/home')\n",
        "def home():\n",
        "    return 'This is the home page'\n",
        "\n",
        "@app.route('/redirect')\n",
        "def redirect_to_home():\n",
        "    return redirect(url_for('home'))\n",
        "    @app.route('/user/<username>')\n",
        "def profile(username):\n",
        "    return f'User {username}'\n",
        "\n",
        "@app.route('/go_to_profile/<username>')\n",
        "def go_to_profile(username):\n",
        "    return redirect(url_for('profile', username=username))\n",
        "    return redirect(url_for('home'), code=301)  # Permanent redirect\n",
        ""
      ],
      "metadata": {
        "id": "0l6aNsZXDsSX"
      },
      "execution_count": null,
      "outputs": []
    },
    {
      "cell_type": "code",
      "source": [
        "# 10. How do you handle errors in Flask (e.g., 404)\n",
        "from flask import Flask, render_template\n",
        "\n",
        "app = Flask(__name__)\n",
        "\n",
        "@app.errorhandler(404)\n",
        "def page_not_found(error):\n",
        "    return render_template('404.html'), 404\n",
        "    @app.errorhandler(500)\n",
        "def internal_server_error(error):\n",
        "    return render_template('500.html'), 500\n",
        "    from flask import abort\n",
        "\n",
        "@app.route('/restricted')\n",
        "def restricted_area():\n",
        "    # Check if the user is authorized\n",
        "    if not is_authorized():\n",
        "        abort(403)  # Forbidden\n",
        "    # ..."
      ],
      "metadata": {
        "id": "9az8UrCiDf4w"
      },
      "execution_count": null,
      "outputs": []
    },
    {
      "cell_type": "code",
      "source": [
        "# 11. How do you structure a Flask app using Blueprints\n",
        "from flask import Blueprint\n",
        "\n",
        "# Create a Blueprint object\n",
        "auth_bp = Blueprint('auth', __name__, template_folder='templates', static_folder='static')\n",
        "from flask import render_template\n",
        "\n",
        "@auth_bp.route('/login')\n",
        "def login():\n",
        "    return render_template('auth/login.html')\n",
        "\n",
        "@auth_bp.route('/signup')\n",
        "def signup():\n",
        "    return render_template('auth/signup.html')\n",
        "    from flask import render_template\n",
        "\n",
        "@auth_bp.route('/login')\n",
        "def login():\n",
        "    return render_template('auth/login.html')\n",
        "\n",
        "@auth_bp.route('/signup')\n",
        "def signup():\n",
        "    return render_template('auth/signup.html')\n",
        "\n",
        "from flask import Flask\n",
        "\n",
        "app = Flask(__name__)\n",
        "\n",
        "# Register the blueprint\n",
        "app.register_blueprint(auth_bp, url_prefix='/auth')"
      ],
      "metadata": {
        "id": "E_xUPZc_EVO6"
      },
      "execution_count": null,
      "outputs": []
    },
    {
      "cell_type": "code",
      "source": [
        "# 12. How do you define a custom Jinja filter in Flask\n",
        "def format_currency(value):\n",
        "       return \"${:,.2f}\".format(value)\n",
        "       from flask import Flask\n",
        "\n",
        "app = Flask(__name__)\n",
        "\n",
        "@app.template_filter('currency')\n",
        "def format_currency(value):\n",
        "   return \"${:,.2f}\".format(value)\n",
        "   {{ price | currency }}\n",
        "   def format_currency(value):\n",
        "       return \"${:,.2f}\".format(value)\n",
        "\n",
        "app.jinja_env.filters['currency'] = format_currency"
      ],
      "metadata": {
        "id": "HVymqabREwZi"
      },
      "execution_count": null,
      "outputs": []
    },
    {
      "cell_type": "code",
      "source": [
        "# 13. How can you redirect with query parameters in Flask\n",
        "from flask import Flask, redirect, url_for\n",
        "\n",
        "app = Flask(__name__)\n",
        "\n",
        "@app.route('/destination')\n",
        "def destination():\n",
        "    # Access query parameters using request.args\n",
        "    param1 = request.args.get('param1')\n",
        "    param2 = request.args.get('param2')\n",
        "    return f'Destination page with param1={param1} and param2={param2}'\n",
        "\n",
        "@app.route('/redirect_with_params')\n",
        "def redirect_with_params():\n",
        "    # Redirect to /destination with query parameters\n",
        "    return redirect(url_for('destination', param1='value1', param2='value2'))\n",
        "    from flask import Flask, redirect\n",
        "\n",
        "app = Flask(__name__)\n",
        "\n",
        "@app.route('/destination')\n",
        "def destination():\n",
        "    # Access query parameters using request.args\n",
        "    param1 = request.args.get('param1')\n",
        "    param2 = request.args.get('param2')\n",
        "    return f'Destination page with param1={param1} and param2={param2}'\n",
        "\n",
        "@app.route('/redirect_with_params')\n",
        "def redirect_with_params():\n",
        "    # Redirect to /destination with query parameters\n",
        "    url = '/destination?param1=value1&param2=value2'\n",
        "    return redirect(url)\n",
        ""
      ],
      "metadata": {
        "id": "AIbiOvyyFISU"
      },
      "execution_count": null,
      "outputs": []
    },
    {
      "cell_type": "code",
      "source": [
        "# 14.  How do you return JSON responses in Flask\n",
        "from flask import Flask, jsonify\n",
        "\n",
        "app = Flask(__name__)\n",
        "\n",
        "@app.route('/data')\n",
        "def get_data():\n",
        "    data = {'name': 'John', 'age': 30}\n",
        "    return jsonify(data)\n",
        "    from flask import Flask, make_response\n",
        "\n",
        "app = Flask(__name__)\n",
        "\n",
        "@app.route('/data')\n",
        "def get_data():\n",
        "    data = {'name': 'John', 'age': 30}\n",
        "    response = make_response(data)  # Assuming 'data' is JSON-serializable\n",
        "    response.headers['Content-Type'] = 'application/json'\n",
        "    return response\n",
        ""
      ],
      "metadata": {
        "id": "GxPWUlM_FYj_"
      },
      "execution_count": null,
      "outputs": []
    },
    {
      "cell_type": "code",
      "source": [
        "# 15. How do you capture URL parameters in Flask\n",
        "from flask import Flask\n",
        "\n",
        "app = Flask(__name__)\n",
        "\n",
        "@app.route('/user/<username>')\n",
        "def profile(username):\n",
        "    return f'User {username}\n",
        "@app.route('/user/<username>')\n",
        "def profile(username):\n",
        "    # Access the 'username' parameter\n",
        "    return f'User {username}'\n",
        "    @app.route('/user/<int:user_id>')\n",
        "def user_profile(user_id):\n",
        "    # 'user_id' will be an integer\n",
        "    return f'User ID: {user_id}'\n",
        "    @app.route('/articles/<int:year>/<int:month>')\n",
        "def articles_by_date(year, month):\n",
        "    return f'Articles from {year}/{month}'"
      ],
      "metadata": {
        "id": "hz9ADvOlFqH-"
      },
      "execution_count": null,
      "outputs": []
    }
  ]
}